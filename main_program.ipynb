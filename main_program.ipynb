{
 "cells": [
  {
   "cell_type": "code",
   "execution_count": 7,
   "id": "ed1e02d2-e9bc-43fb-8544-2495797a7241",
   "metadata": {},
   "outputs": [
    {
     "name": "stdout",
     "output_type": "stream",
     "text": [
      "Song Recommender App\n",
      "Enter a song title and artist to get started!\n"
     ]
    },
    {
     "name": "stdin",
     "output_type": "stream",
     "text": [
      "Enter the song title:  hello\n",
      "Enter the artist name:  adele\n"
     ]
    },
    {
     "name": "stdout",
     "output_type": "stream",
     "text": [
      "Select a song from the following list:\n",
      "1. Hello - Adele\n",
      "2. Hello - Adele\n",
      "3. Hello - Amy Sorinio\n",
      "4. Hello - Victoria Adelene\n",
      "5. Hello - Noteservice Wind Ensemble\n"
     ]
    },
    {
     "name": "stdin",
     "output_type": "stream",
     "text": [
      "Choose a song (1-5):  3\n"
     ]
    },
    {
     "name": "stdout",
     "output_type": "stream",
     "text": [
      "You selected: Hello - Amy Sorinio\n"
     ]
    },
    {
     "name": "stdin",
     "output_type": "stream",
     "text": [
      "Choose a KMeans model (k=10 or k=20):  k_10\n"
     ]
    },
    {
     "name": "stderr",
     "output_type": "stream",
     "text": [
      "C:\\Users\\duart\\ironhack.bootcamp\\week_5\\Mid_bootcamp_project\\midcamp_env\\lib\\site-packages\\sklearn\\cluster\\_kmeans.py:1412: FutureWarning: The default value of `n_init` will change from 10 to 'auto' in 1.4. Set the value of `n_init` explicitly to suppress the warning\n",
      "  super()._check_params_vs_input(X, default_n_init=10)\n"
     ]
    },
    {
     "name": "stdout",
     "output_type": "stream",
     "text": [
      "Recommended Songs:\n",
      "The Wedding Samba - Edmundo Ros\n",
      "Album: The World Of Edmundo Ros\n",
      "Release Date: 2009-01-01\n",
      "Duration: 173333\n",
      "Spotify Link: https://open.spotify.com/track/0LJJVedwai2FNKRoFD0orF\n",
      "\n",
      "S.O.S. - Spliff\n",
      "Album: 85555\n",
      "Release Date: 1982-07-08\n",
      "Duration: 225760\n",
      "Spotify Link: https://open.spotify.com/track/3sh97kCZ3s1v5b93cLJOEL\n",
      "\n",
      "Quítate La Ropa - Los Delinquentes\n",
      "Album: Bienvenidos A La Época Iconoclasta\n",
      "Release Date: 2009-05-12\n",
      "Duration: 192186\n",
      "Spotify Link: https://open.spotify.com/track/3b5CWAhcTWRtap15uIbxK9\n",
      "\n",
      "Who Cares - Delroy Wilson\n",
      "Album: Better Must Come / Greatest Hits... Plus\n",
      "Release Date: 1999\n",
      "Duration: 183760\n",
      "Spotify Link: https://open.spotify.com/track/6jhKkMB5xVOAu5h1Zw5Fa8\n",
      "\n",
      "Erica - Justin Lo\n",
      "Album: 側田\n",
      "Release Date: 2006-08-01\n",
      "Duration: 239026\n",
      "Spotify Link: https://open.spotify.com/track/1a9JmkJ1jdcDZSHQ1umP3O\n",
      "\n"
     ]
    },
    {
     "name": "stdin",
     "output_type": "stream",
     "text": [
      "Would you like to generate more recommendations? (yes/no):  yes\n",
      "Enter the song title:  hello\n",
      "Enter the artist name:  adele\n"
     ]
    },
    {
     "name": "stdout",
     "output_type": "stream",
     "text": [
      "Select a song from the following list:\n",
      "1. Hello - Adele\n",
      "2. Hello - Adele\n",
      "3. Hello - Amy Sorinio\n",
      "4. Hello - Victoria Adelene\n",
      "5. Hello - Noteservice Wind Ensemble\n"
     ]
    },
    {
     "name": "stdin",
     "output_type": "stream",
     "text": [
      "Choose a song (1-5):  4\n"
     ]
    },
    {
     "name": "stdout",
     "output_type": "stream",
     "text": [
      "You selected: Hello - Victoria Adelene\n"
     ]
    },
    {
     "name": "stdin",
     "output_type": "stream",
     "text": [
      "Choose a KMeans model (k=10 or k=20):  k=20\n"
     ]
    },
    {
     "name": "stderr",
     "output_type": "stream",
     "text": [
      "C:\\Users\\duart\\ironhack.bootcamp\\week_5\\Mid_bootcamp_project\\midcamp_env\\lib\\site-packages\\sklearn\\cluster\\_kmeans.py:1412: FutureWarning: The default value of `n_init` will change from 10 to 'auto' in 1.4. Set the value of `n_init` explicitly to suppress the warning\n",
      "  super()._check_params_vs_input(X, default_n_init=10)\n"
     ]
    },
    {
     "name": "stdout",
     "output_type": "stream",
     "text": [
      "Recommended Songs:\n",
      "Tonight - Swami\n",
      "Album: 53431\n",
      "Release Date: 2009-08-17\n",
      "Duration: 259990\n",
      "Spotify Link: https://open.spotify.com/track/6Xygq1XVKeGfRSRr1LF72C\n",
      "\n",
      "Africans - Mighty Diamonds\n",
      "Album: Bust Out (Remastered)\n",
      "Release Date: 1993\n",
      "Duration: 219975\n",
      "Spotify Link: https://open.spotify.com/track/3GYDPZuXoS7Ovrw2sHQPoA\n",
      "\n",
      "Machopolka - Polkaholix\n",
      "Album: The Great Polka Swindle\n",
      "Release Date: 2023-07-14\n",
      "Duration: 190520\n",
      "Spotify Link: https://open.spotify.com/track/4jt5fY8d2NmlPplNuak39r\n",
      "\n",
      "Spaceman - The Killers\n",
      "Album: Day & Age (Bonus Tracks)\n",
      "Release Date: 2008-11-18\n",
      "Duration: 284546\n",
      "Spotify Link: https://open.spotify.com/track/1A8SxnqRK3qabmuN2qxIpa\n",
      "\n",
      "Dirty Diana - Michael Jackson\n",
      "Album: Number Ones\n",
      "Release Date: 1979\n",
      "Duration: 280600\n",
      "Spotify Link: https://open.spotify.com/track/6JZYMxvcoeLD4IifJPvDux\n",
      "\n"
     ]
    },
    {
     "name": "stdin",
     "output_type": "stream",
     "text": [
      "Would you like to generate more recommendations? (yes/no):  no\n"
     ]
    }
   ],
   "source": [
    "import pandas as pd\n",
    "from sklearn.cluster import KMeans\n",
    "from sklearn.preprocessing import StandardScaler\n",
    "from functions import search_song_api\n",
    "\n",
    "# Load the existing DataFrame with track data\n",
    "df = pd.read_csv('full_song_data.csv')\n",
    "\n",
    "# Prepare the data for KMeans clustering\n",
    "# We'll use only the relevant audio features for clustering\n",
    "audio_features = df[['acousticness', 'danceability', 'energy', 'instrumentalness', 'key',\n",
    "                     'liveness', 'loudness', 'mode', 'speechiness', 'tempo', 'time_signature', 'valence']]\n",
    "\n",
    "# Scale the data to have mean=0 and variance=1\n",
    "scaler = StandardScaler()\n",
    "scaled_audio_features = scaler.fit_transform(audio_features)\n",
    "\n",
    "def recommend_songs(song_title, artist_name):\n",
    "    # Call the function to search for the song in the Spotify API\n",
    "    search_results = search_song_api(song_title, artist_name)\n",
    "\n",
    "    # Show the search results\n",
    "    print(\"Select a song from the following list:\")\n",
    "    for idx, result in enumerate(search_results):\n",
    "        print(f\"{idx+1}. {result['track_name']} - {result['artist']}\")\n",
    "\n",
    "    choice = int(input(\"Choose a song (1-5): \"))\n",
    "    selected_song = search_results[choice-1]\n",
    "    print(f\"You selected: {selected_song['track_name']} - {selected_song['artist']}\")\n",
    "\n",
    "    # Ask the user to choose a KMeans model\n",
    "    kmeans_model_choice = input(\"Choose a KMeans model (k=10 or k=20): \")\n",
    "\n",
    "    if kmeans_model_choice == 'k=10':\n",
    "        kmeans_model = KMeans(n_clusters=10, random_state=42)\n",
    "    else:\n",
    "        kmeans_model = KMeans(n_clusters=20, random_state=42)\n",
    "\n",
    "    cluster_labels = kmeans_model.fit_predict(scaled_audio_features)\n",
    "    selected_song_index = choice - 1\n",
    "    selected_song_cluster = cluster_labels[selected_song_index]\n",
    "\n",
    "    hot_or_not = df[df['track_id'] == selected_song['track_id']]['hot_or_not'].values\n",
    "\n",
    "    if len(hot_or_not) == 0:\n",
    "        hot_or_not = 'not_hot'\n",
    "    else:\n",
    "        hot_or_not = hot_or_not[0]\n",
    "\n",
    "    # Filter the DataFrame to get songs from the same cluster as the selected song and the same hot_or_not category\n",
    "    recommended_songs = df[(cluster_labels == selected_song_cluster) & (df['hot_or_not'] == hot_or_not)].sample(5)\n",
    "\n",
    "    return recommended_songs\n",
    "\n",
    "def main():\n",
    "    print(\"Song Recommender App\")\n",
    "    print(\"Enter a song title and artist to get started!\")\n",
    "\n",
    "    while True:\n",
    "        song_title = input(\"Enter the song title: \")\n",
    "        artist_name = input(\"Enter the artist name: \")\n",
    "\n",
    "        recommended_songs = recommend_songs(song_title, artist_name)\n",
    "\n",
    "        print(\"Recommended Songs:\")\n",
    "        for idx, song in recommended_songs.iterrows():\n",
    "            print(f\"{song['track_name']} - {song['artist']}\")\n",
    "            print(f\"Album: {song['album_name']}\")\n",
    "            print(f\"Release Date: {song['album_release_year']}\")\n",
    "            print(f\"Duration: {song['track_duration']}\")\n",
    "            print(f\"Spotify Link: {song['track_link']}\")\n",
    "            print()\n",
    "\n",
    "        choice = input(\"Would you like to generate more recommendations? (yes/no): \")\n",
    "        if choice.lower() != 'yes':\n",
    "            break\n",
    "\n",
    "if __name__ == \"__main__\":\n",
    "    main()\n",
    "\n"
   ]
  },
  {
   "cell_type": "code",
   "execution_count": null,
   "id": "a3a275d4-54db-4fe0-aba3-b89aea8c9cf0",
   "metadata": {},
   "outputs": [],
   "source": []
  }
 ],
 "metadata": {
  "kernelspec": {
   "display_name": "midcamp_env",
   "language": "python",
   "name": "midcamp_env"
  },
  "language_info": {
   "codemirror_mode": {
    "name": "ipython",
    "version": 3
   },
   "file_extension": ".py",
   "mimetype": "text/x-python",
   "name": "python",
   "nbconvert_exporter": "python",
   "pygments_lexer": "ipython3",
   "version": "3.10.9"
  }
 },
 "nbformat": 4,
 "nbformat_minor": 5
}
